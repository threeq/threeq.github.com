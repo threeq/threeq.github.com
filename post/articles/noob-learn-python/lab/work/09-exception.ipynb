{
 "cells": [
  {
   "cell_type": "markdown",
   "metadata": {},
   "source": [
    "# 异常捕捉\n",
    "\n",
    "其实已经在前面遇见过异常了，比如：使用一个没有定义的变量，就会产生一个名字错误的异常；将一个字符串对象和数值对象相加，就会产生类型错误异常。\n",
    "\n",
    "什么是异常？**异常是程序在执行时发生的事件，它会打断指令的正常流程。** 发生一个异常时，表示发生了一个 python 自身无法处理的一个错误。\n",
    "\n",
    "简单理解就是程序发生了我们意料之外的错误，发生异常的情况很多，比如网络失败、磁盘文件失败、使用了2个不同类型的对象做运算等。并且大部分是编码时不可预知是否会发生，这和代码当时运行环境有很大关联，有可能发生，也有可能不会发生。\n",
    "\n",
    "异常是Python对象，表示一个错误。\n",
    "\n",
    "当Python脚本发生异常时我们需要捕获处理它，否则程序会终止执行。\n",
    "\n",
    "捕捉异常可以使用try/except语句。\n",
    "\n",
    "try/except语句用来检测try语句块中的错误，从而让except语句捕获异常信息并处理。\n",
    "\n",
    "如果你不想在异常发生时结束你的程序，只需在try里捕获它。\n",
    "\n",
    "语法：\n",
    "\n",
    "```\n",
    "try:\n",
    "    <语句>        #运行别的代码\n",
    "except <名字>：\n",
    "    <语句>        #如果在try部份引发了'name'异常\n",
    "except <名字>，<数据>:\n",
    "    <语句>        #如果引发了'name'异常，获得附加的数据\n",
    "else:\n",
    "    <语句>        #如果没有异常发生\n",
    "```\n",
    "\n",
    "实例："
   ]
  },
  {
   "cell_type": "code",
   "execution_count": 1,
   "metadata": {},
   "outputs": [
    {
     "ename": "TypeError",
     "evalue": "must be str, not int",
     "output_type": "error",
     "traceback": [
      "\u001b[0;31m---------------------------------------------------------------------------\u001b[0m",
      "\u001b[0;31mTypeError\u001b[0m                                 Traceback (most recent call last)",
      "\u001b[0;32m<ipython-input-1-e29823995ef5>\u001b[0m in \u001b[0;36m<module>\u001b[0;34m()\u001b[0m\n\u001b[0;32m----> 1\u001b[0;31m \u001b[0;34m\"a\"\u001b[0m\u001b[0;34m+\u001b[0m\u001b[0;36m1\u001b[0m\u001b[0;34m\u001b[0m\u001b[0m\n\u001b[0m",
      "\u001b[0;31mTypeError\u001b[0m: must be str, not int"
     ]
    }
   ],
   "source": [
    "\"a\"+1"
   ]
  },
  {
   "cell_type": "code",
   "execution_count": 2,
   "metadata": {},
   "outputs": [
    {
     "name": "stdout",
     "output_type": "stream",
     "text": [
      "类型错误\n",
      "must be str, not int\n"
     ]
    }
   ],
   "source": [
    "# 处理异常\n",
    "try:\n",
    "     \"a\"+1\n",
    "except NameError:\n",
    "    print(\"未定义变量处理\")\n",
    "    print(e)\n",
    "except TypeError as e:\n",
    "    print(\"类型错误\")\n",
    "    print(e)"
   ]
  },
  {
   "cell_type": "markdown",
   "metadata": {},
   "source": [
    "使用except而不带任何异常类型\n",
    "你可以不带任何异常类型使用except，如下实例：\n",
    "\n",
    "```\n",
    "try:\n",
    "    正常的操作\n",
    "   ......................\n",
    "except:\n",
    "    发生异常，执行这块代码\n",
    "   ......................\n",
    "else:\n",
    "    如果没有异常执行这块代码\n",
    "以上方式try-except语句捕获所有发生的异常。但这不是一个很好的方式，我们不能通过该程序识别出具体的异常信息。因为它捕获所有的异常。\n",
    "\n",
    "```\n",
    "\n",
    "使用except而带多种异常类型\n",
    "你也可以使用相同的except语句来处理多个异常信息，如下所示：\n",
    "\n",
    "```\n",
    "try:\n",
    "    正常的操作\n",
    "   ......................\n",
    "except(Exception1[, Exception2[,...ExceptionN]]]):\n",
    "   发生以上多个异常中的一个，执行这块代码\n",
    "   ......................\n",
    "else:\n",
    "    如果没有异常执行这块代码\n",
    "```\n",
    "\n",
    "try-finally 语句\n",
    "try-finally 语句无论是否发生异常都将执行最后的代码。\n",
    "```\n",
    "try:\n",
    "    <语句>\n",
    "finally:\n",
    "    <语句>    #退出try时总会执行\n",
    "```\n"
   ]
  },
  {
   "cell_type": "markdown",
   "metadata": {},
   "source": [
    "## raise 抛出异常"
   ]
  },
  {
   "cell_type": "code",
   "execution_count": 3,
   "metadata": {},
   "outputs": [
    {
     "ename": "Exception",
     "evalue": "Invalid level!",
     "output_type": "error",
     "traceback": [
      "\u001b[0;31m---------------------------------------------------------------------------\u001b[0m",
      "\u001b[0;31mException\u001b[0m                                 Traceback (most recent call last)",
      "\u001b[0;32m<ipython-input-3-4b6d1cc080ee>\u001b[0m in \u001b[0;36m<module>\u001b[0;34m()\u001b[0m\n\u001b[0;32m----> 1\u001b[0;31m \u001b[0;32mraise\u001b[0m \u001b[0mException\u001b[0m\u001b[0;34m(\u001b[0m\u001b[0;34m\"Invalid level!\"\u001b[0m\u001b[0;34m)\u001b[0m\u001b[0;34m\u001b[0m\u001b[0m\n\u001b[0m",
      "\u001b[0;31mException\u001b[0m: Invalid level!"
     ]
    }
   ],
   "source": [
    "raise Exception(\"Invalid level!\")"
   ]
  },
  {
   "cell_type": "markdown",
   "metadata": {},
   "source": [
    "也可以使用自定义异常"
   ]
  },
  {
   "cell_type": "code",
   "execution_count": 5,
   "metadata": {},
   "outputs": [
    {
     "name": "stdout",
     "output_type": "stream",
     "text": [
      "arg: Bad hostname\n",
      "('B', 'a', 'd', ' ', 'h', 'o', 's', 't', 'n', 'a', 'm', 'e')\n"
     ]
    }
   ],
   "source": [
    "# 自定义异常\n",
    "class Networkerror(RuntimeError):\n",
    "    def __init__(self, arg):\n",
    "        print(\"arg: \"+ arg)\n",
    "        self.args = arg\n",
    "        \n",
    "# 使用异常\n",
    "try:\n",
    "    raise Networkerror(\"Bad hostname\")\n",
    "except Networkerror as e:\n",
    "    print(e.args)"
   ]
  },
  {
   "cell_type": "code",
   "execution_count": 1,
   "metadata": {},
   "outputs": [
    {
     "name": "stdout",
     "output_type": "stream",
     "text": [
      "almost execute\n"
     ]
    },
    {
     "ename": "NameError",
     "evalue": "name 'Networkerror' is not defined",
     "output_type": "error",
     "traceback": [
      "\u001b[0;31m---------------------------------------------------------------------------\u001b[0m",
      "\u001b[0;31mNameError\u001b[0m                                 Traceback (most recent call last)",
      "\u001b[0;32m<ipython-input-1-da7011c8ce82>\u001b[0m in \u001b[0;36m<module>\u001b[0;34m()\u001b[0m\n\u001b[1;32m      1\u001b[0m \u001b[0;32mtry\u001b[0m\u001b[0;34m:\u001b[0m\u001b[0;34m\u001b[0m\u001b[0m\n\u001b[0;32m----> 2\u001b[0;31m     \u001b[0;32mraise\u001b[0m \u001b[0mNetworkerror\u001b[0m\u001b[0;34m(\u001b[0m\u001b[0;34m\"Bad hostname\"\u001b[0m\u001b[0;34m)\u001b[0m\u001b[0;34m\u001b[0m\u001b[0m\n\u001b[0m\u001b[1;32m      3\u001b[0m \u001b[0;32mexcept\u001b[0m \u001b[0mNetworkerror\u001b[0m \u001b[0;32mas\u001b[0m \u001b[0me\u001b[0m\u001b[0;34m:\u001b[0m\u001b[0;34m\u001b[0m\u001b[0m\n",
      "\u001b[0;31mNameError\u001b[0m: name 'Networkerror' is not defined",
      "\nDuring handling of the above exception, another exception occurred:\n",
      "\u001b[0;31mNameError\u001b[0m                                 Traceback (most recent call last)",
      "\u001b[0;32m<ipython-input-1-da7011c8ce82>\u001b[0m in \u001b[0;36m<module>\u001b[0;34m()\u001b[0m\n\u001b[1;32m      1\u001b[0m \u001b[0;32mtry\u001b[0m\u001b[0;34m:\u001b[0m\u001b[0;34m\u001b[0m\u001b[0m\n\u001b[1;32m      2\u001b[0m     \u001b[0;32mraise\u001b[0m \u001b[0mNetworkerror\u001b[0m\u001b[0;34m(\u001b[0m\u001b[0;34m\"Bad hostname\"\u001b[0m\u001b[0;34m)\u001b[0m\u001b[0;34m\u001b[0m\u001b[0m\n\u001b[0;32m----> 3\u001b[0;31m \u001b[0;32mexcept\u001b[0m \u001b[0mNetworkerror\u001b[0m \u001b[0;32mas\u001b[0m \u001b[0me\u001b[0m\u001b[0;34m:\u001b[0m\u001b[0;34m\u001b[0m\u001b[0m\n\u001b[0m\u001b[1;32m      4\u001b[0m     \u001b[0mprint\u001b[0m\u001b[0;34m(\u001b[0m\u001b[0me\u001b[0m\u001b[0;34m.\u001b[0m\u001b[0margs\u001b[0m\u001b[0;34m)\u001b[0m\u001b[0;34m\u001b[0m\u001b[0m\n\u001b[1;32m      5\u001b[0m \u001b[0;32mfinally\u001b[0m\u001b[0;34m:\u001b[0m\u001b[0;34m\u001b[0m\u001b[0m\n",
      "\u001b[0;31mNameError\u001b[0m: name 'Networkerror' is not defined"
     ]
    }
   ],
   "source": [
    "try:\n",
    "    raise Networkerror(\"Bad hostname\")\n",
    "except Networkerror as e:\n",
    "    print(e.args)\n",
    "finally:\n",
    "    print(\"almost execute\")"
   ]
  }
 ],
 "metadata": {
  "kernelspec": {
   "display_name": "Python 3",
   "language": "python",
   "name": "python3"
  },
  "language_info": {
   "codemirror_mode": {
    "name": "ipython",
    "version": 3
   },
   "file_extension": ".py",
   "mimetype": "text/x-python",
   "name": "python",
   "nbconvert_exporter": "python",
   "pygments_lexer": "ipython3",
   "version": "3.6.5"
  }
 },
 "nbformat": 4,
 "nbformat_minor": 2
}
