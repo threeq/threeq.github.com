{
 "cells": [
  {
   "cell_type": "markdown",
   "metadata": {
    "colab_type": "text",
    "id": "l5X8fEKCHksB"
   },
   "source": [
    "由于我们使用的 Jupyter web 交互式环境，所以对于 python 原始的交互式环境和如何在物理机器上运行 python 程序将放到后面介绍。直接进入 python 语法的学习。首先先简单了解 Python 的基础语法。"
   ]
  },
  {
   "cell_type": "markdown",
   "metadata": {
    "colab_type": "text",
    "id": "WTV8tq8ebYvc"
   },
   "source": [
    "# 标识符\n",
    "\n",
    "* 在 Python 里，标识符由字母、数字、下划线组成。\n",
    "\n",
    "* 在 Python 中，所有标识符可以包括英文、数字以及下划线(_)，但不能以数字开头。\n",
    "\n",
    "* Python 中的标识符是区分大小写的。\n",
    "\n",
    "* 以下划线开头的标识符是有特殊意义的。以单下划线开头 _foo 的代表不能直接访问的类属性，需通过类提供的接口进行访问，不能用 from xxx import * 而导入；\n",
    "\n",
    "* 以双下划线开头的 `__foo` 代表类的私有成员；以双下划线开头和结尾的 `__foo__ `代表 Python 里特殊方法专用的标识，如  `__init__()` 代表类的构造函数。\n",
    "\n",
    "* Python 可以同一行显示多条语句，方法是用分号` ; `分开，\n",
    "如：\n",
    "\n"
   ]
  },
  {
   "cell_type": "code",
   "execution_count": 1,
   "metadata": {
    "colab": {
     "autoexec": {
      "startup": false,
      "wait_interval": 0
     },
     "base_uri": "https://localhost:8080/",
     "height": 51
    },
    "colab_type": "code",
    "executionInfo": {
     "elapsed": 6989,
     "status": "ok",
     "timestamp": 1529418376134,
     "user": {
      "displayName": "wang san",
      "photoUrl": "https://lh3.googleusercontent.com/a/default-user=s128",
      "userId": "110912998189487813609"
     },
     "user_tz": -480
    },
    "id": "2y_yO89ab7kA",
    "outputId": "c336d700-c2e6-4030-fa29-47f634c58594"
   },
   "outputs": [
    {
     "name": "stdout",
     "output_type": "stream",
     "text": [
      "hello, \n",
      "world!\n"
     ]
    }
   ],
   "source": [
    "print(\"hello, \"); print(\"world!\")"
   ]
  },
  {
   "cell_type": "markdown",
   "metadata": {
    "colab_type": "text",
    "id": "zgUQfbR3cASn"
   },
   "source": [
    "# 保留字\n",
    "\n",
    "下面的列表显示了在Python中的保留字。这些保留字不能用作常数或变数，或任何其他标识符名称。\n",
    "\n",
    "所有 Python 的关键字只包含小写字母。\n",
    "\n",
    "   a |  b | c   |\n",
    "---|---|---\n",
    "and\t| exec|\tnot\n",
    "assert\t| finally\t| or\n",
    "break |\tfor\t| pass\n",
    "class |\tfrom |\tprint\n",
    "continue |\tglobal\t |raise\n",
    "def\t| if |\treturn\n",
    "del |\timport |\ttry\n",
    "elif\t| in\t | while\n",
    "else\t| is\t| with\n",
    "except |\tlambda\t| yield\n",
    "\n",
    "# 行和缩进\n",
    "\n",
    "学习 Python 与其他语言最大的区别就是，Python 的代码块不使用大括号 {} 来控制类，函数以及其他逻辑判断。python 最具特色的就是用缩进来写模块。\n",
    "\n",
    "缩进的空白数量是可变的，但是所有代码块语句必须包含相同的缩进空白数量，这个必须严格执行。如下所示：\n"
   ]
  },
  {
   "cell_type": "code",
   "execution_count": 4,
   "metadata": {
    "colab": {
     "autoexec": {
      "startup": false,
      "wait_interval": 0
     },
     "base_uri": "https://localhost:8080/",
     "height": 34
    },
    "colab_type": "code",
    "executionInfo": {
     "elapsed": 4596,
     "status": "ok",
     "timestamp": 1529418698276,
     "user": {
      "displayName": "wang san",
      "photoUrl": "https://lh3.googleusercontent.com/a/default-user=s128",
      "userId": "110912998189487813609"
     },
     "user_tz": -480
    },
    "id": "ucYbbHDOcigr",
    "outputId": "3ea06828-14dc-4033-fe19-c1420bde3375"
   },
   "outputs": [
    {
     "name": "stdout",
     "output_type": "stream",
     "text": [
      "True\n"
     ]
    }
   ],
   "source": [
    "if True:\n",
    "  print(\"True\")\n",
    "else:\n",
    "  print(\"False\")"
   ]
  },
  {
   "cell_type": "code",
   "execution_count": 6,
   "metadata": {
    "colab": {
     "autoexec": {
      "startup": false,
      "wait_interval": 0
     },
     "base_uri": "https://localhost:8080/",
     "height": 134
    },
    "colab_type": "code",
    "executionInfo": {
     "elapsed": 2984,
     "status": "error",
     "timestamp": 1529418755974,
     "user": {
      "displayName": "wang san",
      "photoUrl": "https://lh3.googleusercontent.com/a/default-user=s128",
      "userId": "110912998189487813609"
     },
     "user_tz": -480
    },
    "id": "We6ysnGAdQxo",
    "outputId": "116d2184-8a01-440b-9785-0d7c541b6909"
   },
   "outputs": [
    {
     "ename": "IndentationError",
     "evalue": "ignored",
     "output_type": "error",
     "traceback": [
      "\u001b[0;36m  File \u001b[0;32m\"<ipython-input-6-90ba842299af>\"\u001b[0;36m, line \u001b[0;32m7\u001b[0m\n\u001b[0;31m    print( \"False\")\u001b[0m\n\u001b[0m                   ^\u001b[0m\n\u001b[0;31mIndentationError\u001b[0m\u001b[0;31m:\u001b[0m unindent does not match any outer indentation level\n"
     ]
    }
   ],
   "source": [
    "if True:\n",
    "    print( \"Answer\")\n",
    "    print( \"True\")\n",
    "else:\n",
    "    print( \"Answer\")\n",
    "    # 没有严格缩进，在执行时会报错\n",
    "  print( \"False\")"
   ]
  },
  {
   "cell_type": "markdown",
   "metadata": {
    "colab_type": "text",
    "id": "UXG_TOHzddFz"
   },
   "source": [
    "**IndentationError: unindent does not match any outer indentation level** 错误表明，你使用的缩进方式不一致，有的是 tab 键缩进，有的是空格缩进，改为一致即可。\n",
    "\n",
    "如果是 IndentationError: unexpected indent 错误, 则 python 编译器是在告诉你\"Hi，老兄，你的文件里格式不对了，可能是tab和空格没对齐的问题\"，所有 python 对格式要求非常严格。\n",
    "\n",
    "因此，在 Python 的代码块中必须使用相同数目的行首缩进空格数。\n",
    "\n",
    "建议你在每个缩进层次使用 单个制表符 或 两个空格 或 四个空格 , 切记不能混用\n",
    "\n",
    "# 多行语句\n",
    "\n",
    "Python语句中一般以新行作为语句的结束符。\n",
    "\n",
    "但是我们可以使用斜杠（ \\）将一行的语句分为多行显示，如下所示："
   ]
  },
  {
   "cell_type": "code",
   "execution_count": 0,
   "metadata": {
    "colab": {
     "autoexec": {
      "startup": false,
      "wait_interval": 0
     }
    },
    "colab_type": "code",
    "id": "mnrmSkWIdzY-"
   },
   "outputs": [],
   "source": [
    "item_one='1'\n",
    "item_two = '2'\n",
    "item_three = '3'\n",
    "\n",
    "total = item_one + \\\n",
    "        item_two + \\\n",
    "        item_three"
   ]
  },
  {
   "cell_type": "markdown",
   "metadata": {
    "colab_type": "text",
    "id": "7nIz1KjKd1HN"
   },
   "source": [
    "语句中包含 [], {} 或 () 括号就不需要使用多行连接符。如下实例："
   ]
  },
  {
   "cell_type": "code",
   "execution_count": 0,
   "metadata": {
    "colab": {
     "autoexec": {
      "startup": false,
      "wait_interval": 0
     }
    },
    "colab_type": "code",
    "id": "wG83-EHaeBB6"
   },
   "outputs": [],
   "source": [
    "days = ['Monday', 'Tuesday', 'Wednesday',\n",
    "        'Thursday', 'Friday']"
   ]
  },
  {
   "cell_type": "markdown",
   "metadata": {
    "colab_type": "text",
    "id": "SkqHP28XeCU5"
   },
   "source": [
    "# python 引号"
   ]
  },
  {
   "cell_type": "markdown",
   "metadata": {
    "colab_type": "text",
    "id": "b_uDUSv8eIip"
   },
   "source": [
    "Python 可以使用引号( ' )、双引号( \" )、三引号( ''' 或 \"\"\" ) 来表示字符串，引号的开始与结束必须的相同类型的。\n",
    "\n",
    "其中三引号可以由多行组成，编写多行文本的快捷语法，常用于文档字符串，在文件的特定地点，被当做注释。\n"
   ]
  },
  {
   "cell_type": "code",
   "execution_count": 0,
   "metadata": {
    "colab": {
     "autoexec": {
      "startup": false,
      "wait_interval": 0
     }
    },
    "colab_type": "code",
    "id": "4s0jVsfWeNYa"
   },
   "outputs": [],
   "source": [
    "word = 'word'\n",
    "sentence = \"这是一个句子。\"\n",
    "paragraph = \"\"\"这是一个段落。\n",
    "包含了多个语句\"\"\""
   ]
  },
  {
   "cell_type": "markdown",
   "metadata": {
    "colab_type": "text",
    "id": "BfVERAuneNrn"
   },
   "source": [
    "# Python 注释\n",
    "\n",
    "python中单行注释采用 # 开头。注释可以在语句或表达式行末。\n",
    "\n",
    "python 中多行注释使用三个单引号(''')或三个双引号(\"\"\")。\n"
   ]
  },
  {
   "cell_type": "code",
   "execution_count": 12,
   "metadata": {
    "colab": {
     "autoexec": {
      "startup": false,
      "wait_interval": 0
     },
     "base_uri": "https://localhost:8080/",
     "height": 51
    },
    "colab_type": "code",
    "executionInfo": {
     "elapsed": 2294,
     "status": "ok",
     "timestamp": 1529419052613,
     "user": {
      "displayName": "wang san",
      "photoUrl": "https://lh3.googleusercontent.com/a/default-user=s128",
      "userId": "110912998189487813609"
     },
     "user_tz": -480
    },
    "id": "xy8RZINgedCL",
    "outputId": "d6170703-76fa-4684-a175-e1aa097340fa"
   },
   "outputs": [
    {
     "name": "stdout",
     "output_type": "stream",
     "text": [
      "Hello, Python!\n",
      "没有看到错误就正确了哟！恭喜你\n"
     ]
    }
   ],
   "source": [
    "# 第一个注释\n",
    "print(\"Hello, Python!\")  # 第二个注释\n",
    "\n",
    "\n",
    "'''\n",
    "这是多行注释，使用单引号。\n",
    "这是多行注释，使用单引号。\n",
    "这是多行注释，使用单引号。\n",
    "'''\n",
    "\n",
    "\"\"\"\n",
    "这是多行注释，使用双引号。\n",
    "这是多行注释，使用双引号。\n",
    "这是多行注释，使用双引号。\n",
    "\"\"\"\n",
    "print(\"没有看到错误就正确了哟！恭喜你\")"
   ]
  },
  {
   "cell_type": "markdown",
   "metadata": {
    "colab_type": "text",
    "id": "gNMGZp5peidA"
   },
   "source": [
    "# python 空行\n",
    "\n",
    "函数之间或类的方法之间用空行分隔，表示一段新的代码的开始。类和函数入口之间也用一行空行分隔，以突出函数入口的开始。\n",
    "\n",
    "空行与代码缩进不同，空行并不是Python语法的一部分。书写时不插入空行，Python解释器运行也不会出错。但是空行的作用在于分隔两段不同功能或含义的代码，便于日后代码的维护或重构。\n",
    "\n",
    "记住：空行也是程序代码的一部分。\n",
    "\n"
   ]
  },
  {
   "cell_type": "markdown",
   "metadata": {
    "colab_type": "text",
    "id": "TMT7PaiXe09U"
   },
   "source": [
    "# 数据类型\n",
    "\n",
    "对于数据类型这里只做简要介绍，随后会详细介绍每种类型。\n",
    "\n",
    "python 高层概念\n",
    "\n",
    "1. 程序由模块组成\n",
    "2. 模块包含语句\n",
    "3. 语句包含表达式\n",
    "4. 表达式创建和操作对象\n",
    "\n",
    "对象类型 | 实例\n",
    "---|---\n",
    "Numbers(数值) | 123, 3.4, 3+4j, Ob111, Decimal(), Fraction()\n",
    "Strings(字符) | '你好', \"spam\", b'\\x01c', u'sp\\xc4m'\n",
    "Lists(列表) | [1,[2,'three'], 4.5], list(range(10))\n",
    "Dictionaries (字典) | {'food':'orange', 'taste': 'yum'}, dict(hours=10)\n",
    "Tuples(元组) | (1,'yellow', 4, 'U'), tuple('spam'), namedtuple\n",
    "Files(文件) | open('eggs.text'), open('/data/aaa.bin', 'wb')\n",
    "Sets(集合) | set('abc'), {'a', 'b', 'c'}\n",
    "Other core types(其他核心类型) | Booleans, types, None\n",
    "Program unit types(程序单元类型) | Functios, modules, classes\n",
    "Implementation-related types(实施相关) | 编译的代码(.pyc)，stack tracebacks\n",
    "\n"
   ]
  },
  {
   "cell_type": "markdown",
   "metadata": {
    "colab_type": "text",
    "id": "9UsUJm7Rzk9H"
   },
   "source": [
    "\n",
    "## 数值"
   ]
  },
  {
   "cell_type": "code",
   "execution_count": 15,
   "metadata": {
    "colab": {
     "autoexec": {
      "startup": false,
      "wait_interval": 0
     },
     "base_uri": "https://localhost:8080/",
     "height": 34
    },
    "colab_type": "code",
    "executionInfo": {
     "elapsed": 40407,
     "status": "ok",
     "timestamp": 1529421392946,
     "user": {
      "displayName": "wang san",
      "photoUrl": "https://lh3.googleusercontent.com/a/default-user=s128",
      "userId": "110912998189487813609"
     },
     "user_tz": -480
    },
    "id": "us_BV6AlnXsT",
    "outputId": "a001b9ea-a8c0-4216-dbc5-3393b282444e"
   },
   "outputs": [
    {
     "data": {
      "text/plain": [
       "123"
      ]
     },
     "execution_count": 15,
     "metadata": {
      "tags": []
     },
     "output_type": "execute_result"
    }
   ],
   "source": [
    "123"
   ]
  },
  {
   "cell_type": "code",
   "execution_count": 16,
   "metadata": {
    "colab": {
     "autoexec": {
      "startup": false,
      "wait_interval": 0
     },
     "base_uri": "https://localhost:8080/",
     "height": 34
    },
    "colab_type": "code",
    "executionInfo": {
     "elapsed": 1531,
     "status": "ok",
     "timestamp": 1529421394668,
     "user": {
      "displayName": "wang san",
      "photoUrl": "https://lh3.googleusercontent.com/a/default-user=s128",
      "userId": "110912998189487813609"
     },
     "user_tz": -480
    },
    "id": "LfggplyNnYtE",
    "outputId": "fd103f1d-65e4-4876-c83f-7c329d05a5c6"
   },
   "outputs": [
    {
     "data": {
      "text/plain": [
       "345"
      ]
     },
     "execution_count": 16,
     "metadata": {
      "tags": []
     },
     "output_type": "execute_result"
    }
   ],
   "source": [
    "123+222"
   ]
  },
  {
   "cell_type": "code",
   "execution_count": 17,
   "metadata": {
    "colab": {
     "autoexec": {
      "startup": false,
      "wait_interval": 0
     },
     "base_uri": "https://localhost:8080/",
     "height": 34
    },
    "colab_type": "code",
    "executionInfo": {
     "elapsed": 4271,
     "status": "ok",
     "timestamp": 1529421402391,
     "user": {
      "displayName": "wang san",
      "photoUrl": "https://lh3.googleusercontent.com/a/default-user=s128",
      "userId": "110912998189487813609"
     },
     "user_tz": -480
    },
    "id": "HET-z-PqnbGk",
    "outputId": "1843c65d-da45-49c5-ee7b-de294bf34b23"
   },
   "outputs": [
    {
     "data": {
      "text/plain": [
       "5.6"
      ]
     },
     "execution_count": 17,
     "metadata": {
      "tags": []
     },
     "output_type": "execute_result"
    }
   ],
   "source": [
    "1.4*4"
   ]
  },
  {
   "cell_type": "code",
   "execution_count": 18,
   "metadata": {
    "colab": {
     "autoexec": {
      "startup": false,
      "wait_interval": 0
     },
     "base_uri": "https://localhost:8080/",
     "height": 34
    },
    "colab_type": "code",
    "executionInfo": {
     "elapsed": 1184,
     "status": "ok",
     "timestamp": 1529421403779,
     "user": {
      "displayName": "wang san",
      "photoUrl": "https://lh3.googleusercontent.com/a/default-user=s128",
      "userId": "110912998189487813609"
     },
     "user_tz": -480
    },
    "id": "thkyZ1nAncQZ",
    "outputId": "c6b5112d-2a79-4da2-d417-e03004244a50"
   },
   "outputs": [
    {
     "data": {
      "text/plain": [
       "1606938044258990275541962092341162602522202993782792835301376"
      ]
     },
     "execution_count": 18,
     "metadata": {
      "tags": []
     },
     "output_type": "execute_result"
    }
   ],
   "source": [
    "2**200"
   ]
  },
  {
   "cell_type": "code",
   "execution_count": 19,
   "metadata": {
    "colab": {
     "autoexec": {
      "startup": false,
      "wait_interval": 0
     },
     "base_uri": "https://localhost:8080/",
     "height": 34
    },
    "colab_type": "code",
    "executionInfo": {
     "elapsed": 734,
     "status": "ok",
     "timestamp": 1529421404712,
     "user": {
      "displayName": "wang san",
      "photoUrl": "https://lh3.googleusercontent.com/a/default-user=s128",
      "userId": "110912998189487813609"
     },
     "user_tz": -480
    },
    "id": "Ll-qA9tZnd96",
    "outputId": "0574f99f-fdfb-4957-ad51-76152998490d"
   },
   "outputs": [
    {
     "data": {
      "text/plain": [
       "30103"
      ]
     },
     "execution_count": 19,
     "metadata": {
      "tags": []
     },
     "output_type": "execute_result"
    }
   ],
   "source": [
    "# 去数字长度\n",
    "len(str(2**100000))"
   ]
  },
  {
   "cell_type": "code",
   "execution_count": 23,
   "metadata": {
    "colab": {
     "autoexec": {
      "startup": false,
      "wait_interval": 0
     },
     "base_uri": "https://localhost:8080/",
     "height": 34
    },
    "colab_type": "code",
    "executionInfo": {
     "elapsed": 1541,
     "status": "ok",
     "timestamp": 1529421419003,
     "user": {
      "displayName": "wang san",
      "photoUrl": "https://lh3.googleusercontent.com/a/default-user=s128",
      "userId": "110912998189487813609"
     },
     "user_tz": -480
    },
    "id": "UIsqsdE-niCY",
    "outputId": "25f53661-61e9-4624-b64b-1375fd1bdaa6"
   },
   "outputs": [
    {
     "data": {
      "text/plain": [
       "6.283"
      ]
     },
     "execution_count": 23,
     "metadata": {
      "tags": []
     },
     "output_type": "execute_result"
    }
   ],
   "source": [
    "3.1415 * 2"
   ]
  },
  {
   "cell_type": "code",
   "execution_count": 22,
   "metadata": {
    "colab": {
     "autoexec": {
      "startup": false,
      "wait_interval": 0
     },
     "base_uri": "https://localhost:8080/",
     "height": 34
    },
    "colab_type": "code",
    "executionInfo": {
     "elapsed": 3263,
     "status": "ok",
     "timestamp": 1529421417385,
     "user": {
      "displayName": "wang san",
      "photoUrl": "https://lh3.googleusercontent.com/a/default-user=s128",
      "userId": "110912998189487813609"
     },
     "user_tz": -480
    },
    "id": "FBQGiwtlnnIC",
    "outputId": "0b5720fa-8792-4f4a-82f2-3e6d824f9793"
   },
   "outputs": [
    {
     "name": "stdout",
     "output_type": "stream",
     "text": [
      "6.283\n"
     ]
    }
   ],
   "source": [
    "# 使用 print 输出\n",
    "print(3.1415 * 2)"
   ]
  },
  {
   "cell_type": "code",
   "execution_count": 26,
   "metadata": {
    "colab": {
     "autoexec": {
      "startup": false,
      "wait_interval": 0
     },
     "base_uri": "https://localhost:8080/",
     "height": 34
    },
    "colab_type": "code",
    "executionInfo": {
     "elapsed": 10983,
     "status": "ok",
     "timestamp": 1529421522533,
     "user": {
      "displayName": "wang san",
      "photoUrl": "https://lh3.googleusercontent.com/a/default-user=s128",
      "userId": "110912998189487813609"
     },
     "user_tz": -480
    },
    "id": "tizeSvLenqEU",
    "outputId": "2a19252d-02d0-4c9f-cc0b-60f738301768"
   },
   "outputs": [
    {
     "data": {
      "text/plain": [
       "3.141592653589793"
      ]
     },
     "execution_count": 26,
     "metadata": {
      "tags": []
     },
     "output_type": "execute_result"
    }
   ],
   "source": [
    "# 使用 math 数据模块\n",
    "import math\n",
    "\n",
    "math.pi"
   ]
  },
  {
   "cell_type": "code",
   "execution_count": 27,
   "metadata": {
    "colab": {
     "autoexec": {
      "startup": false,
      "wait_interval": 0
     },
     "base_uri": "https://localhost:8080/",
     "height": 34
    },
    "colab_type": "code",
    "executionInfo": {
     "elapsed": 8845,
     "status": "ok",
     "timestamp": 1529421531492,
     "user": {
      "displayName": "wang san",
      "photoUrl": "https://lh3.googleusercontent.com/a/default-user=s128",
      "userId": "110912998189487813609"
     },
     "user_tz": -480
    },
    "id": "IwbGVv4fnzD9",
    "outputId": "4282c9f7-e4ab-4167-d69d-13939b83164f"
   },
   "outputs": [
    {
     "data": {
      "text/plain": [
       "9.219544457292887"
      ]
     },
     "execution_count": 27,
     "metadata": {
      "tags": []
     },
     "output_type": "execute_result"
    }
   ],
   "source": [
    "math.sqrt(85)"
   ]
  },
  {
   "cell_type": "code",
   "execution_count": 9,
   "metadata": {
    "colab": {
     "autoexec": {
      "startup": false,
      "wait_interval": 0
     },
     "base_uri": "https://localhost:8080/",
     "height": 34
    },
    "colab_type": "code",
    "executionInfo": {
     "elapsed": 1928,
     "status": "ok",
     "timestamp": 1529590057524,
     "user": {
      "displayName": "wang san",
      "photoUrl": "https://lh3.googleusercontent.com/a/default-user=s128",
      "userId": "110912998189487813609"
     },
     "user_tz": -480
    },
    "id": "iEY2Vkl2n1LN",
    "outputId": "bfcafa41-2ee7-4065-af1f-39b5ef064d2e"
   },
   "outputs": [
    {
     "data": {
      "text/plain": [
       "0.9251197304813635"
      ]
     },
     "execution_count": 9,
     "metadata": {
      "tags": []
     },
     "output_type": "execute_result"
    }
   ],
   "source": [
    "# 随机数\n",
    "import random as rd\n",
    "\n",
    "rd.random()"
   ]
  },
  {
   "cell_type": "code",
   "execution_count": 33,
   "metadata": {
    "colab": {
     "autoexec": {
      "startup": false,
      "wait_interval": 0
     },
     "base_uri": "https://localhost:8080/",
     "height": 34
    },
    "colab_type": "code",
    "executionInfo": {
     "elapsed": 1502,
     "status": "ok",
     "timestamp": 1529591648239,
     "user": {
      "displayName": "wang san",
      "photoUrl": "https://lh3.googleusercontent.com/a/default-user=s128",
      "userId": "110912998189487813609"
     },
     "user_tz": -480
    },
    "id": "7MpytIERn5TR",
    "outputId": "4fc564cd-8271-4d41-85b4-10e13fbadba7"
   },
   "outputs": [
    {
     "data": {
      "text/plain": [
       "2"
      ]
     },
     "execution_count": 33,
     "metadata": {
      "tags": []
     },
     "output_type": "execute_result"
    }
   ],
   "source": [
    "# 随机选择一个元素\n",
    "rd.choice([1,2,3,4])"
   ]
  },
  {
   "cell_type": "markdown",
   "metadata": {
    "colab_type": "text",
    "id": "SMatNX_8xEmZ"
   },
   "source": [
    "### 数值格式化输出"
   ]
  },
  {
   "cell_type": "code",
   "execution_count": 35,
   "metadata": {
    "colab": {
     "autoexec": {
      "startup": false,
      "wait_interval": 0
     },
     "base_uri": "https://localhost:8080/",
     "height": 51
    },
    "colab_type": "code",
    "executionInfo": {
     "elapsed": 1477,
     "status": "ok",
     "timestamp": 1529591701578,
     "user": {
      "displayName": "wang san",
      "photoUrl": "https://lh3.googleusercontent.com/a/default-user=s128",
      "userId": "110912998189487813609"
     },
     "user_tz": -480
    },
    "id": "t17YZB6xxJJO",
    "outputId": "38015848-fca5-4732-9d44-5cd5ff34f1a3"
   },
   "outputs": [
    {
     "name": "stdout",
     "output_type": "stream",
     "text": [
      "29,688.26\n",
      "3.14 | -0042\n"
     ]
    }
   ],
   "source": [
    "print('{:,.2f}'.format(29688.2578))\n",
    "print('%.2f | %+05d' % (3.1415926, -42))"
   ]
  },
  {
   "cell_type": "markdown",
   "metadata": {
    "colab_type": "text",
    "id": "xVkG5uoLqHBm"
   },
   "source": [
    "## 字符串\n",
    "\n",
    "字符串是要使用引号引起来，可以使以下三种的其中一种：`''、\"\"、\"\"\"\"\"\"`。其中 `\"\"\"\"\"\"` 可以包含多行文本。并且字符串是不可以改变的。"
   ]
  },
  {
   "cell_type": "code",
   "execution_count": 12,
   "metadata": {
    "colab": {
     "autoexec": {
      "startup": false,
      "wait_interval": 0
     },
     "base_uri": "https://localhost:8080/",
     "height": 34
    },
    "colab_type": "code",
    "executionInfo": {
     "elapsed": 2557,
     "status": "ok",
     "timestamp": 1529590391128,
     "user": {
      "displayName": "wang san",
      "photoUrl": "https://lh3.googleusercontent.com/a/default-user=s128",
      "userId": "110912998189487813609"
     },
     "user_tz": -480
    },
    "id": "zb9xN-w6n8Ox",
    "outputId": "c891d9dd-69e2-4c26-bee2-4d2717b87838"
   },
   "outputs": [
    {
     "data": {
      "text/plain": [
       "6"
      ]
     },
     "execution_count": 12,
     "metadata": {
      "tags": []
     },
     "output_type": "execute_result"
    }
   ],
   "source": [
    "S = \"Yellow\"\n",
    "len(S)  # 获取文本长度"
   ]
  },
  {
   "cell_type": "code",
   "execution_count": 14,
   "metadata": {
    "colab": {
     "autoexec": {
      "startup": false,
      "wait_interval": 0
     },
     "base_uri": "https://localhost:8080/",
     "height": 102
    },
    "colab_type": "code",
    "executionInfo": {
     "elapsed": 4208,
     "status": "ok",
     "timestamp": 1529590479122,
     "user": {
      "displayName": "wang san",
      "photoUrl": "https://lh3.googleusercontent.com/a/default-user=s128",
      "userId": "110912998189487813609"
     },
     "user_tz": -480
    },
    "id": "boGLTExYoLis",
    "outputId": "89e5ecc2-030c-4f53-c360-759f6a6f14f3"
   },
   "outputs": [
    {
     "name": "stdout",
     "output_type": "stream",
     "text": [
      "Y\n",
      "e\n",
      "w\n",
      "o\n",
      "w\n"
     ]
    }
   ],
   "source": [
    "# 获取字符串特定位置的字符\n",
    "print(S[0])\n",
    "print(S[1])\n",
    "print(S[-1])  # 可以使用负数，表示从右向左\n",
    "print(S[-2])\n",
    "print(S[len(S)-1]) # 这个和 print(S[-1]) 等效"
   ]
  },
  {
   "cell_type": "code",
   "execution_count": 17,
   "metadata": {
    "colab": {
     "autoexec": {
      "startup": false,
      "wait_interval": 0
     },
     "base_uri": "https://localhost:8080/",
     "height": 136
    },
    "colab_type": "code",
    "executionInfo": {
     "elapsed": 954,
     "status": "ok",
     "timestamp": 1529590653398,
     "user": {
      "displayName": "wang san",
      "photoUrl": "https://lh3.googleusercontent.com/a/default-user=s128",
      "userId": "110912998189487813609"
     },
     "user_tz": -480
    },
    "id": "QwiAgYz6oVTw",
    "outputId": "a9a23e47-75ce-45e7-c47a-1d10f8912a14"
   },
   "outputs": [
    {
     "name": "stdout",
     "output_type": "stream",
     "text": [
      "Yellow\n",
      "el\n",
      "ellow\n",
      "Yellow\n",
      "Yel\n",
      "Yello\n",
      "Yellow\n"
     ]
    }
   ],
   "source": [
    "print(S)\n",
    "# 返回字符串子串\n",
    "print(S[1:3])\n",
    "print(S[1:])\n",
    "print(S)  # 返回字符串不会更改字符串的值\n",
    "\n",
    "print(S[0:3])\n",
    "print(S[:-1])\n",
    "print(S[:])\n"
   ]
  },
  {
   "cell_type": "code",
   "execution_count": 18,
   "metadata": {
    "colab": {
     "autoexec": {
      "startup": false,
      "wait_interval": 0
     },
     "base_uri": "https://localhost:8080/",
     "height": 51
    },
    "colab_type": "code",
    "executionInfo": {
     "elapsed": 3456,
     "status": "ok",
     "timestamp": 1529590733057,
     "user": {
      "displayName": "wang san",
      "photoUrl": "https://lh3.googleusercontent.com/a/default-user=s128",
      "userId": "110912998189487813609"
     },
     "user_tz": -480
    },
    "id": "M4CObd6UojJT",
    "outputId": "52166dda-ebd2-454f-fa8b-7bd82abaee37"
   },
   "outputs": [
    {
     "name": "stdout",
     "output_type": "stream",
     "text": [
      "Yellowabc\n",
      "YellowYellowYellowYellowYellowYellowYellowYellow\n"
     ]
    }
   ],
   "source": [
    "# 拼接两个字符串\n",
    "print(S + \"abc\")\n",
    "\n",
    "# 重复输出 N 遍字符串\n",
    "print(S*8)"
   ]
  },
  {
   "cell_type": "markdown",
   "metadata": {
    "colab_type": "text",
    "id": "YSBesxOFoxce"
   },
   "source": [
    "### 不可更改性"
   ]
  },
  {
   "cell_type": "code",
   "execution_count": 20,
   "metadata": {
    "colab": {
     "autoexec": {
      "startup": false,
      "wait_interval": 0
     },
     "base_uri": "https://localhost:8080/",
     "height": 219
    },
    "colab_type": "code",
    "executionInfo": {
     "elapsed": 1022,
     "status": "error",
     "timestamp": 1529590772263,
     "user": {
      "displayName": "wang san",
      "photoUrl": "https://lh3.googleusercontent.com/a/default-user=s128",
      "userId": "110912998189487813609"
     },
     "user_tz": -480
    },
    "id": "3s7U7wKgo1I_",
    "outputId": "10755d18-617d-47e2-eaf4-e12371dcdb45"
   },
   "outputs": [
    {
     "name": "stdout",
     "output_type": "stream",
     "text": [
      "Yellow\n"
     ]
    },
    {
     "ename": "TypeError",
     "evalue": "ignored",
     "output_type": "error",
     "traceback": [
      "\u001b[0;31m---------------------------------------------------------------------------\u001b[0m",
      "\u001b[0;31mTypeError\u001b[0m                                 Traceback (most recent call last)",
      "\u001b[0;32m<ipython-input-20-798812957f79>\u001b[0m in \u001b[0;36m<module>\u001b[0;34m()\u001b[0m\n\u001b[1;32m      2\u001b[0m \u001b[0;34m\u001b[0m\u001b[0m\n\u001b[1;32m      3\u001b[0m \u001b[0;31m# 此语句将会报错\u001b[0m\u001b[0;34m\u001b[0m\u001b[0;34m\u001b[0m\u001b[0m\n\u001b[0;32m----> 4\u001b[0;31m \u001b[0mS\u001b[0m\u001b[0;34m[\u001b[0m\u001b[0;36m0\u001b[0m\u001b[0;34m]\u001b[0m \u001b[0;34m=\u001b[0m \u001b[0;34m'z'\u001b[0m\u001b[0;34m\u001b[0m\u001b[0m\n\u001b[0m",
      "\u001b[0;31mTypeError\u001b[0m: 'str' object does not support item assignment"
     ]
    }
   ],
   "source": [
    "print(S)\n",
    "\n",
    "# 此语句将会报错\n",
    "S[0] = 'z'"
   ]
  },
  {
   "cell_type": "code",
   "execution_count": 21,
   "metadata": {
    "colab": {
     "autoexec": {
      "startup": false,
      "wait_interval": 0
     },
     "base_uri": "https://localhost:8080/",
     "height": 34
    },
    "colab_type": "code",
    "executionInfo": {
     "elapsed": 1697,
     "status": "ok",
     "timestamp": 1529590905033,
     "user": {
      "displayName": "wang san",
      "photoUrl": "https://lh3.googleusercontent.com/a/default-user=s128",
      "userId": "110912998189487813609"
     },
     "user_tz": -480
    },
    "id": "bfQt3AUso4wY",
    "outputId": "a82f35b0-2f8f-45dd-a11b-8e68cfe2843f"
   },
   "outputs": [
    {
     "name": "stdout",
     "output_type": "stream",
     "text": [
      "zellow\n"
     ]
    }
   ],
   "source": [
    "# 但是我们可以使用 子串 和 字符串拼接，形成新的字符串\n",
    "S = 'z' + S[1:]\n",
    "print(S)"
   ]
  },
  {
   "cell_type": "code",
   "execution_count": 24,
   "metadata": {
    "colab": {
     "autoexec": {
      "startup": false,
      "wait_interval": 0
     },
     "base_uri": "https://localhost:8080/",
     "height": 51
    },
    "colab_type": "code",
    "executionInfo": {
     "elapsed": 1215,
     "status": "ok",
     "timestamp": 1529590987969,
     "user": {
      "displayName": "wang san",
      "photoUrl": "https://lh3.googleusercontent.com/a/default-user=s128",
      "userId": "110912998189487813609"
     },
     "user_tz": -480
    },
    "id": "rb7Bv5iro9AK",
    "outputId": "5434f5d5-ba68-4ab5-b497-8f35b65d613f"
   },
   "outputs": [
    {
     "name": "stdout",
     "output_type": "stream",
     "text": [
      "accdefg\n",
      "abcdefg\n"
     ]
    }
   ],
   "source": [
    "# 或者可以使用 list 进行字符串的修改，但是这个也是形成新的字符串，不会修改原始字符串\n",
    "a = \"abcdefg\"\n",
    "L = list(a)\n",
    "L\n",
    "L[1] = 'c'\n",
    "print(''.join(L))\n",
    "print(a)"
   ]
  },
  {
   "cell_type": "markdown",
   "metadata": {
    "colab_type": "text",
    "id": "Y035vDIqpCuD"
   },
   "source": [
    "更多关于字符串的知识，后面会详细介绍"
   ]
  },
  {
   "cell_type": "markdown",
   "metadata": {
    "colab_type": "text",
    "id": "OadESngMqxE_"
   },
   "source": [
    "### 格式化"
   ]
  },
  {
   "cell_type": "code",
   "execution_count": 36,
   "metadata": {
    "colab": {
     "autoexec": {
      "startup": false,
      "wait_interval": 0
     },
     "base_uri": "https://localhost:8080/",
     "height": 68
    },
    "colab_type": "code",
    "executionInfo": {
     "elapsed": 3753,
     "status": "ok",
     "timestamp": 1529591765372,
     "user": {
      "displayName": "wang san",
      "photoUrl": "https://lh3.googleusercontent.com/a/default-user=s128",
      "userId": "110912998189487813609"
     },
     "user_tz": -480
    },
    "id": "9sf7akfaq2fg",
    "outputId": "1023f521-029f-47ad-9e88-7000c2830851"
   },
   "outputs": [
    {
     "name": "stdout",
     "output_type": "stream",
     "text": [
      "spam, eggs, and SPAM!\n",
      "spam, eggs, and SPAM!\n",
      "spam, eggs, and SPAM!\n"
     ]
    }
   ],
   "source": [
    "print('%s, eggs, and %s' % ('spam', 'SPAM!'))\n",
    "print('{0}, eggs, and {1}'.format('spam', 'SPAM!'))\n",
    "print('{}, eggs, and {}'.format('spam', 'SPAM!'))"
   ]
  },
  {
   "cell_type": "markdown",
   "metadata": {
    "colab_type": "text",
    "id": "TyeQQGkctdpB"
   },
   "source": [
    "# 列表\n"
   ]
  },
  {
   "cell_type": "code",
   "execution_count": 25,
   "metadata": {
    "colab": {
     "autoexec": {
      "startup": false,
      "wait_interval": 0
     },
     "base_uri": "https://localhost:8080/",
     "height": 51
    },
    "colab_type": "code",
    "executionInfo": {
     "elapsed": 1171,
     "status": "ok",
     "timestamp": 1529591260919,
     "user": {
      "displayName": "wang san",
      "photoUrl": "https://lh3.googleusercontent.com/a/default-user=s128",
      "userId": "110912998189487813609"
     },
     "user_tz": -480
    },
    "id": "TBMom6tRwmux",
    "outputId": "5b9b39f7-e3fa-4283-dcac-b20fc3e7c74d"
   },
   "outputs": [
    {
     "name": "stdout",
     "output_type": "stream",
     "text": [
      "[123, 'spam', 1.33]\n",
      "3\n"
     ]
    }
   ],
   "source": [
    "L = [123, 'spam', 1.33]\n",
    "print(L)\n",
    "print(len(L)) # 获取列表长度"
   ]
  },
  {
   "cell_type": "code",
   "execution_count": 26,
   "metadata": {
    "colab": {
     "autoexec": {
      "startup": false,
      "wait_interval": 0
     },
     "base_uri": "https://localhost:8080/",
     "height": 51
    },
    "colab_type": "code",
    "executionInfo": {
     "elapsed": 1648,
     "status": "ok",
     "timestamp": 1529591313431,
     "user": {
      "displayName": "wang san",
      "photoUrl": "https://lh3.googleusercontent.com/a/default-user=s128",
      "userId": "110912998189487813609"
     },
     "user_tz": -480
    },
    "id": "2hEePXguwspq",
    "outputId": "5dad11a0-1479-4c6e-cdb3-af8a2d2100b5"
   },
   "outputs": [
    {
     "name": "stdout",
     "output_type": "stream",
     "text": [
      "123\n",
      "[123, 'spam']\n"
     ]
    }
   ],
   "source": [
    "# 获取列表值\n",
    "print(L[0])\n",
    "print(L[:-1]) # 返回一个子列表"
   ]
  },
  {
   "cell_type": "code",
   "execution_count": 29,
   "metadata": {
    "colab": {
     "autoexec": {
      "startup": false,
      "wait_interval": 0
     },
     "base_uri": "https://localhost:8080/",
     "height": 51
    },
    "colab_type": "code",
    "executionInfo": {
     "elapsed": 1814,
     "status": "ok",
     "timestamp": 1529591476473,
     "user": {
      "displayName": "wang san",
      "photoUrl": "https://lh3.googleusercontent.com/a/default-user=s128",
      "userId": "110912998189487813609"
     },
     "user_tz": -480
    },
    "id": "ZJH4XK50wvnv",
    "outputId": "6f50f876-8bf4-4963-d26e-cf025f5d1ded"
   },
   "outputs": [
    {
     "name": "stdout",
     "output_type": "stream",
     "text": [
      "[123, 'spam', 1.33, 4, 5, 6]\n",
      "[123, 'spam', 1.33, 123, 'spam', 1.33]\n"
     ]
    }
   ],
   "source": [
    "print(L + [4,5,6]) # 列表拼接\n",
    "print(L*2)         "
   ]
  },
  {
   "cell_type": "code",
   "execution_count": 31,
   "metadata": {
    "colab": {
     "autoexec": {
      "startup": false,
      "wait_interval": 0
     },
     "base_uri": "https://localhost:8080/",
     "height": 236
    },
    "colab_type": "code",
    "executionInfo": {
     "elapsed": 2239,
     "status": "error",
     "timestamp": 1529591542590,
     "user": {
      "displayName": "wang san",
      "photoUrl": "https://lh3.googleusercontent.com/a/default-user=s128",
      "userId": "110912998189487813609"
     },
     "user_tz": -480
    },
    "id": "U8bzSa-Uwalw",
    "outputId": "3265c4f3-7a07-4cc8-c5ea-dcdf9159e145"
   },
   "outputs": [
    {
     "name": "stdout",
     "output_type": "stream",
     "text": [
      "[123, 'spam', 1.33]\n",
      "spam\n"
     ]
    },
    {
     "ename": "IndexError",
     "evalue": "ignored",
     "output_type": "error",
     "traceback": [
      "\u001b[0;31m---------------------------------------------------------------------------\u001b[0m",
      "\u001b[0;31mIndexError\u001b[0m                                Traceback (most recent call last)",
      "\u001b[0;32m<ipython-input-31-d40083741a4a>\u001b[0m in \u001b[0;36m<module>\u001b[0;34m()\u001b[0m\n\u001b[1;32m      1\u001b[0m \u001b[0mprint\u001b[0m\u001b[0;34m(\u001b[0m\u001b[0mL\u001b[0m\u001b[0;34m)\u001b[0m\u001b[0;34m\u001b[0m\u001b[0m\n\u001b[1;32m      2\u001b[0m \u001b[0mprint\u001b[0m\u001b[0;34m(\u001b[0m\u001b[0mL\u001b[0m\u001b[0;34m[\u001b[0m\u001b[0;36m1\u001b[0m\u001b[0;34m]\u001b[0m\u001b[0;34m)\u001b[0m\u001b[0;34m\u001b[0m\u001b[0m\n\u001b[0;32m----> 3\u001b[0;31m \u001b[0mprint\u001b[0m\u001b[0;34m(\u001b[0m\u001b[0mL\u001b[0m\u001b[0;34m[\u001b[0m\u001b[0;36m99\u001b[0m\u001b[0;34m]\u001b[0m\u001b[0;34m)\u001b[0m \u001b[0;31m# 这里会报错误\u001b[0m\u001b[0;34m\u001b[0m\u001b[0m\n\u001b[0m",
      "\u001b[0;31mIndexError\u001b[0m: list index out of range"
     ]
    }
   ],
   "source": [
    "# 检查边界\n",
    "print(L)\n",
    "print(L[1])\n",
    "print(L[99]) # 这里会报错误"
   ]
  },
  {
   "cell_type": "code",
   "execution_count": 32,
   "metadata": {
    "colab": {
     "autoexec": {
      "startup": false,
      "wait_interval": 0
     },
     "base_uri": "https://localhost:8080/",
     "height": 168
    },
    "colab_type": "code",
    "executionInfo": {
     "elapsed": 1445,
     "status": "error",
     "timestamp": 1529591577445,
     "user": {
      "displayName": "wang san",
      "photoUrl": "https://lh3.googleusercontent.com/a/default-user=s128",
      "userId": "110912998189487813609"
     },
     "user_tz": -480
    },
    "id": "KgwDTxZmxiwc",
    "outputId": "8903507b-e653-4af5-8013-92c727a521e8"
   },
   "outputs": [
    {
     "ename": "IndexError",
     "evalue": "ignored",
     "output_type": "error",
     "traceback": [
      "\u001b[0;31m---------------------------------------------------------------------------\u001b[0m",
      "\u001b[0;31mIndexError\u001b[0m                                Traceback (most recent call last)",
      "\u001b[0;32m<ipython-input-32-a8d940cf9021>\u001b[0m in \u001b[0;36m<module>\u001b[0;34m()\u001b[0m\n\u001b[0;32m----> 1\u001b[0;31m \u001b[0mL\u001b[0m\u001b[0;34m[\u001b[0m\u001b[0;36m99\u001b[0m\u001b[0;34m]\u001b[0m \u001b[0;34m=\u001b[0m \u001b[0;36m1\u001b[0m \u001b[0;31m# 赋值也会报错\u001b[0m\u001b[0;34m\u001b[0m\u001b[0m\n\u001b[0m",
      "\u001b[0;31mIndexError\u001b[0m: list assignment index out of range"
     ]
    }
   ],
   "source": [
    "L[99] = 1 # 赋值也会报错"
   ]
  },
  {
   "cell_type": "markdown",
   "metadata": {
    "colab_type": "text",
    "id": "r0UQiDtIxk9S"
   },
   "source": [
    "# 元组\n"
   ]
  },
  {
   "cell_type": "code",
   "execution_count": 1,
   "metadata": {
    "colab": {
     "autoexec": {
      "startup": false,
      "wait_interval": 0
     },
     "base_uri": "https://localhost:8080/",
     "height": 34
    },
    "colab_type": "code",
    "executionInfo": {
     "elapsed": 927,
     "status": "ok",
     "timestamp": 1529589778758,
     "user": {
      "displayName": "wang san",
      "photoUrl": "https://lh3.googleusercontent.com/a/default-user=s128",
      "userId": "110912998189487813609"
     },
     "user_tz": -480
    },
    "id": "WWuMLgG0p2cb",
    "outputId": "8389fd78-97d7-42db-a51b-3e6ea1f655f0"
   },
   "outputs": [
    {
     "data": {
      "text/plain": [
       "(1, 2, 3)"
      ]
     },
     "execution_count": 1,
     "metadata": {
      "tags": []
     },
     "output_type": "execute_result"
    }
   ],
   "source": [
    "(1,2,3)"
   ]
  },
  {
   "cell_type": "code",
   "execution_count": 44,
   "metadata": {
    "colab": {
     "autoexec": {
      "startup": false,
      "wait_interval": 0
     },
     "base_uri": "https://localhost:8080/",
     "height": 34
    },
    "colab_type": "code",
    "executionInfo": {
     "elapsed": 1513,
     "status": "ok",
     "timestamp": 1529592367221,
     "user": {
      "displayName": "wang san",
      "photoUrl": "https://lh3.googleusercontent.com/a/default-user=s128",
      "userId": "110912998189487813609"
     },
     "user_tz": -480
    },
    "id": "9HLrFcFUp6hH",
    "outputId": "e05acca4-aa82-4223-b447-ff55194c5312"
   },
   "outputs": [
    {
     "data": {
      "text/plain": [
       "3"
      ]
     },
     "execution_count": 44,
     "metadata": {
      "tags": []
     },
     "output_type": "execute_result"
    }
   ],
   "source": [
    "a = (1,2,3)\n",
    "a[2]"
   ]
  },
  {
   "cell_type": "markdown",
   "metadata": {
    "colab_type": "text",
    "id": "tcqlC08Kp_L1"
   },
   "source": [
    "# 字典"
   ]
  },
  {
   "cell_type": "code",
   "execution_count": 43,
   "metadata": {
    "colab": {
     "autoexec": {
      "startup": false,
      "wait_interval": 0
     },
     "base_uri": "https://localhost:8080/",
     "height": 68
    },
    "colab_type": "code",
    "executionInfo": {
     "elapsed": 3351,
     "status": "ok",
     "timestamp": 1529592220785,
     "user": {
      "displayName": "wang san",
      "photoUrl": "https://lh3.googleusercontent.com/a/default-user=s128",
      "userId": "110912998189487813609"
     },
     "user_tz": -480
    },
    "id": "qRFVPG-0qC0X",
    "outputId": "3e4050d9-6e30-41d1-db8d-081d0a128010"
   },
   "outputs": [
    {
     "name": "stdout",
     "output_type": "stream",
     "text": [
      "{'a': 1, 'b': 2}\n",
      "1\n",
      "{'a': 'aaa', 'b': 2}\n"
     ]
    }
   ],
   "source": [
    "d = {\"a\":1, \"b\":2}\n",
    "print(d)\n",
    "\n",
    "print(d[\"a\"])\n",
    "\n",
    "d[\"a\"] = \"aaa\"\n",
    "print(d)"
   ]
  },
  {
   "cell_type": "markdown",
   "metadata": {
    "colab_type": "text",
    "id": "AMlKfmECrd3m"
   },
   "source": [
    "# 获取帮助\n",
    "\n",
    "在 python 中一切都是对象，他们都有自己特定可操作的方法和属性，可以使用 `dir` 进行查看有哪些可使用的方法或属性。并且可以针对方法或属性使用 `help` 函数获得对应的 doc 文档。"
   ]
  },
  {
   "cell_type": "code",
   "execution_count": 0,
   "metadata": {
    "colab": {
     "autoexec": {
      "startup": false,
      "wait_interval": 0
     },
     "base_uri": "https://localhost:8080/",
     "height": 1326
    },
    "colab_type": "code",
    "executionInfo": {
     "elapsed": 8644,
     "status": "ok",
     "timestamp": 1529422455568,
     "user": {
      "displayName": "wang san",
      "photoUrl": "https://lh3.googleusercontent.com/a/default-user=s128",
      "userId": "110912998189487813609"
     },
     "user_tz": -480
    },
    "id": "b-QMjfVKvbTH",
    "outputId": "9f57ba2c-c2ea-41bd-a7ad-cb392dd1ddc1"
   },
   "outputs": [
    {
     "data": {
      "text/plain": [
       "['__add__',\n",
       " '__class__',\n",
       " '__contains__',\n",
       " '__delattr__',\n",
       " '__dir__',\n",
       " '__doc__',\n",
       " '__eq__',\n",
       " '__format__',\n",
       " '__ge__',\n",
       " '__getattribute__',\n",
       " '__getitem__',\n",
       " '__getnewargs__',\n",
       " '__gt__',\n",
       " '__hash__',\n",
       " '__init__',\n",
       " '__init_subclass__',\n",
       " '__iter__',\n",
       " '__le__',\n",
       " '__len__',\n",
       " '__lt__',\n",
       " '__mod__',\n",
       " '__mul__',\n",
       " '__ne__',\n",
       " '__new__',\n",
       " '__reduce__',\n",
       " '__reduce_ex__',\n",
       " '__repr__',\n",
       " '__rmod__',\n",
       " '__rmul__',\n",
       " '__setattr__',\n",
       " '__sizeof__',\n",
       " '__str__',\n",
       " '__subclasshook__',\n",
       " 'capitalize',\n",
       " 'casefold',\n",
       " 'center',\n",
       " 'count',\n",
       " 'encode',\n",
       " 'endswith',\n",
       " 'expandtabs',\n",
       " 'find',\n",
       " 'format',\n",
       " 'format_map',\n",
       " 'index',\n",
       " 'isalnum',\n",
       " 'isalpha',\n",
       " 'isdecimal',\n",
       " 'isdigit',\n",
       " 'isidentifier',\n",
       " 'islower',\n",
       " 'isnumeric',\n",
       " 'isprintable',\n",
       " 'isspace',\n",
       " 'istitle',\n",
       " 'isupper',\n",
       " 'join',\n",
       " 'ljust',\n",
       " 'lower',\n",
       " 'lstrip',\n",
       " 'maketrans',\n",
       " 'partition',\n",
       " 'replace',\n",
       " 'rfind',\n",
       " 'rindex',\n",
       " 'rjust',\n",
       " 'rpartition',\n",
       " 'rsplit',\n",
       " 'rstrip',\n",
       " 'split',\n",
       " 'splitlines',\n",
       " 'startswith',\n",
       " 'strip',\n",
       " 'swapcase',\n",
       " 'title',\n",
       " 'translate',\n",
       " 'upper',\n",
       " 'zfill']"
      ]
     },
     "execution_count": 89,
     "metadata": {
      "tags": []
     },
     "output_type": "execute_result"
    }
   ],
   "source": [
    "dir(\"a\")"
   ]
  },
  {
   "cell_type": "code",
   "execution_count": 41,
   "metadata": {
    "colab": {
     "autoexec": {
      "startup": false,
      "wait_interval": 0
     },
     "base_uri": "https://localhost:8080/",
     "height": 51
    },
    "colab_type": "code",
    "executionInfo": {
     "elapsed": 1945,
     "status": "ok",
     "timestamp": 1529591994680,
     "user": {
      "displayName": "wang san",
      "photoUrl": "https://lh3.googleusercontent.com/a/default-user=s128",
      "userId": "110912998189487813609"
     },
     "user_tz": -480
    },
    "id": "jZGoz5PrvbCi",
    "outputId": "78d61749-b764-40be-d8bd-85bf7cf558dc"
   },
   "outputs": [
    {
     "name": "stdout",
     "output_type": "stream",
     "text": [
      "aNI!\n",
      "aNI!\n"
     ]
    }
   ],
   "source": [
    "print(\"a\" + 'NI!')\n",
    "print(\"a\".__add__('NI!'))"
   ]
  },
  {
   "cell_type": "code",
   "execution_count": 48,
   "metadata": {
    "colab": {
     "autoexec": {
      "startup": false,
      "wait_interval": 0
     },
     "base_uri": "https://localhost:8080/",
     "height": 170
    },
    "colab_type": "code",
    "executionInfo": {
     "elapsed": 1822,
     "status": "ok",
     "timestamp": 1529592451020,
     "user": {
      "displayName": "wang san",
      "photoUrl": "https://lh3.googleusercontent.com/a/default-user=s128",
      "userId": "110912998189487813609"
     },
     "user_tz": -480
    },
    "id": "0y4LnUT5ryHd",
    "outputId": "54017ecf-d090-4597-f1f1-aad258f3de74"
   },
   "outputs": [
    {
     "name": "stdout",
     "output_type": "stream",
     "text": [
      "Help on built-in function replace:\n",
      "\n",
      "replace(...) method of builtins.str instance\n",
      "    S.replace(old, new[, count]) -> str\n",
      "    \n",
      "    Return a copy of S with all occurrences of substring\n",
      "    old replaced by new.  If the optional argument count is\n",
      "    given, only the first count occurrences are replaced.\n",
      "\n"
     ]
    }
   ],
   "source": [
    "help(\"a\".replace)"
   ]
  },
  {
   "cell_type": "markdown",
   "metadata": {
    "colab_type": "text",
    "id": "_ud303JO0IhA"
   },
   "source": [
    "# 试一试\n",
    "\n",
    "- [ ] 将元组 `('a', 'bb')` 拼接 `a` ，并输出结果\n",
    "- [ ] 为字典 `d` 新增字段数据：键 `'c'`，值 `'cc'` "
   ]
  }
 ],
 "metadata": {
  "colab": {
   "collapsed_sections": [
    "SMatNX_8xEmZ",
    "xVkG5uoLqHBm",
    "YSBesxOFoxce"
   ],
   "default_view": {},
   "name": "02 basic grammar.ipynb",
   "provenance": [],
   "version": "0.3.2",
   "views": {}
  },
  "kernelspec": {
   "display_name": "Python 3",
   "language": "python",
   "name": "python3"
  },
  "language_info": {
   "codemirror_mode": {
    "name": "ipython",
    "version": 3
   },
   "file_extension": ".py",
   "mimetype": "text/x-python",
   "name": "python",
   "nbconvert_exporter": "python",
   "pygments_lexer": "ipython3",
   "version": "3.6.5"
  }
 },
 "nbformat": 4,
 "nbformat_minor": 1
}
