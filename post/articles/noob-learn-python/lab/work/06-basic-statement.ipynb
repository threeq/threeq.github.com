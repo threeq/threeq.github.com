{
 "cells": [
  {
   "cell_type": "markdown",
   "metadata": {},
   "source": [
    "# 语句类型\n",
    "\n",
    "# 赋值\n",
    "\n",
    "# if\n",
    "\n",
    "# for\n",
    "\n",
    "# while\n",
    "\n",
    "# try\n",
    "\n",
    "# 输出语句\n",
    "\n",
    "## 输出重定向\n",
    "\n",
    "# 迭代器\n"
   ]
  },
  {
   "cell_type": "markdown",
   "metadata": {},
   "source": [
    "\n",
    "# 方法定义\n",
    "\n",
    "# 方法调用\n",
    "\n",
    "# oop\n"
   ]
  }
 ],
 "metadata": {
  "kernelspec": {
   "display_name": "Python 3",
   "language": "python",
   "name": "python3"
  },
  "language_info": {
   "codemirror_mode": {
    "name": "ipython",
    "version": 3
   },
   "file_extension": ".py",
   "mimetype": "text/x-python",
   "name": "python",
   "nbconvert_exporter": "python",
   "pygments_lexer": "ipython3",
   "version": "3.6.5"
  }
 },
 "nbformat": 4,
 "nbformat_minor": 2
}
